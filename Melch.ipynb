{
 "cells": [
  {
   "cell_type": "code",
   "execution_count": 1,
   "id": "15279b87",
   "metadata": {},
   "outputs": [
    {
     "name": "stderr",
     "output_type": "stream",
     "text": [
      "┌ Info: Precompiling Melch [top-level]\n",
      "└ @ Base loading.jl:1423\n"
     ]
    }
   ],
   "source": [
    "push!(LOAD_PATH,\"src\")\n",
    "using Chakra, Melch"
   ]
  },
  {
   "cell_type": "code",
   "execution_count": 2,
   "id": "b4d9df68",
   "metadata": {},
   "outputs": [
    {
     "name": "stdout",
     "output_type": "stream",
     "text": [
      " 11.726064 seconds (92.92 M allocations: 7.054 GiB, 14.97% gc time, 0.10% compilation time)\n"
     ]
    }
   ],
   "source": [
    "@time melch = Melch.parse_data(\".\");"
   ]
  },
  {
   "cell_type": "code",
   "execution_count": 3,
   "id": "33f1fd6e",
   "metadata": {},
   "outputs": [
    {
     "data": {
      "text/plain": [
       "26-element Vector{String}:\n",
       " \"Songs and ballads from Nova Scotia, Canada.\"\n",
       " \"Chorale melodies harmonised by J.\"\n",
       " \"Chorale soprano melodies harmonised by J.\"\n",
       " \"Alsatian folk songs from the Essen Folk Song Collection.\"\n",
       " \"Yugoslavian folk songs from the Essen Folk Song Collection.\"\n",
       " \"Swiss folk songs from the Essen Folk Song Collection.\"\n",
       " \"Austrian folk songs from the Essen Folk Song Collection.\"\n",
       " \"German folk songs from the Essen Folk Song Collection: fink.\"\n",
       " \"German folk songs from the Essen Folk Song Collection: erk.\"\n",
       " \"German folk songs from the Essen Folk Song Collection: boehme.\"\n",
       " \"German folk songs from the Essen Folk Song Collection: ballad.\"\n",
       " \"German folk songs from the Essen Folk Song Collection: allerkbd.\"\n",
       " \"German folk songs from the Essen Folk Song Collection: altdeu.\"\n",
       " \"German folk songs from the Essen Folk Song Collection: dva.\"\n",
       " \"German folk songs from the Essen Folk Song Collection: zuccal.\"\n",
       " \"German folk songs from the Essen Folk Song Collection: kinder.\"\n",
       " \"Chinese folk songs (Shanxi region) from the Essen Folk Song Collection.\"\n",
       " \"Single interval contexts used in the experiments of Cuddy and Lunney (1995).\"\n",
       " \"British folk song fragments used in the experiments of Schellenberg (1996).\"\n",
       " \"Melodies used in the experiments of Frankland and Cohen (2004).\"\n",
       " \"Chinese folk songs from the Essen Folk Song Collection: natmin.\"\n",
       " \"Chinese folk songs from the Essen Folk Song Collection: han.\"\n",
       " \"Chinese folk songs from the Essen Folk Song Collection: shanxi.\"\n",
       " \"Irish Folksongs encoded by Daiman Sagrillo.\"\n",
       " \"Folksongs from Lorraine encoded by Daiman Sagrillo.\"\n",
       " \"Folksongs from Luxembourg encoded by Daiman Sagrillo.\""
      ]
     },
     "execution_count": 3,
     "metadata": {},
     "output_type": "execute_result"
    }
   ],
   "source": [
    "[d.description for d in melch.datasets]"
   ]
  },
  {
   "cell_type": "code",
   "execution_count": 4,
   "id": "318784ee",
   "metadata": {},
   "outputs": [
    {
     "data": {
      "text/plain": [
       "106-element Vector{Melch.Event}:\n",
       " Melch.Event(0, 0, 1, 24, 65, 38, 0, -1, 0, 48, 2, 1, 1, 0, 0, Chakra.None(), 0, Chakra.None())\n",
       " Melch.Event(24, 0, 24, 24, 62, 36, 0, -1, 0, 48, 2, 0, 1, 0, 0, Chakra.None(), 0, Chakra.None())\n",
       " Melch.Event(48, 0, 24, 12, 60, 35, 0, -1, 0, 48, 2, 0, 1, 0, 0, Chakra.None(), 0, Chakra.None())\n",
       " Melch.Event(60, 0, 12, 12, 60, 35, 0, -1, 0, 48, 2, 0, 1, 0, 0, Chakra.None(), 0, Chakra.None())\n",
       " Melch.Event(72, 0, 12, 12, 60, 35, 0, -1, 0, 48, 2, 0, 1, 0, 0, Chakra.None(), 0, Chakra.None())\n",
       " Melch.Event(84, 0, 12, 12, 60, 35, 0, -1, 0, 48, 2, 0, 1, 0, 0, Chakra.None(), 0, Chakra.None())\n",
       " Melch.Event(96, 0, 12, 24, 65, 38, 0, -1, 0, 48, 2, 0, 1, 0, 0, Chakra.None(), 0, Chakra.None())\n",
       " Melch.Event(120, 0, 24, 12, 65, 38, 0, -1, 0, 48, 2, 0, 1, 0, 0, Chakra.None(), 0, Chakra.None())\n",
       " Melch.Event(132, 0, 12, 12, 65, 38, 0, -1, 0, 48, 2, 0, 1, 0, 0, Chakra.None(), 0, Chakra.None())\n",
       " Melch.Event(144, 0, 12, 12, 69, 40, 0, -1, 0, 48, 2, 0, 1, 0, 0, Chakra.None(), 0, Chakra.None())\n",
       " Melch.Event(156, 0, 12, 12, 69, 40, 0, -1, 0, 48, 2, 0, 1, 0, 0, Chakra.None(), 0, Chakra.None())\n",
       " Melch.Event(168, 0, 12, 12, 69, 40, 0, -1, 0, 48, 2, 0, 1, 0, 0, Chakra.None(), 0, Chakra.None())\n",
       " Melch.Event(180, 0, 12, 12, 69, 40, 0, -1, 0, 48, 2, 0, 1, 0, 0, Chakra.None(), 0, Chakra.None())\n",
       " ⋮\n",
       " Melch.Event(1380, 0, 12, 12, 74, 43, 0, -1, 0, 48, 2, 0, 1, 0, 0, Chakra.None(), 0, Chakra.None())\n",
       " Melch.Event(1392, 0, 12, 12, 72, 42, 0, -1, 0, 48, 2, 0, 1, 0, 0, Chakra.None(), 0, Chakra.None())\n",
       " Melch.Event(1404, 0, 12, 12, 69, 40, 0, -1, 0, 48, 2, 0, 1, 0, 0, Chakra.None(), 0, Chakra.None())\n",
       " Melch.Event(1416, 0, 12, 12, 69, 40, 0, -1, 0, 48, 2, 0, 1, 0, 0, Chakra.None(), 0, Chakra.None())\n",
       " Melch.Event(1428, 0, 12, 12, 69, 40, 0, -1, 0, 48, 2, 0, 1, 0, 0, Chakra.None(), 0, Chakra.None())\n",
       " Melch.Event(1440, 0, 12, 12, 69, 40, 0, -1, 0, 48, 2, 0, 1, 0, 0, Chakra.None(), 0, Chakra.None())\n",
       " Melch.Event(1452, 0, 12, 12, 67, 39, 0, -1, 0, 48, 2, 0, 1, 0, 0, Chakra.None(), 0, Chakra.None())\n",
       " Melch.Event(1464, 0, 12, 12, 65, 38, 0, -1, 0, 48, 2, 0, 1, 0, 0, Chakra.None(), 0, Chakra.None())\n",
       " Melch.Event(1476, 0, 12, 12, 67, 39, 0, -1, 0, 48, 2, 0, 1, 0, 0, Chakra.None(), 0, Chakra.None())\n",
       " Melch.Event(1488, 0, 12, 24, 69, 40, 0, -1, 0, 48, 2, 0, 1, 0, 0, Chakra.None(), 0, Chakra.None())\n",
       " Melch.Event(1512, 0, 24, 24, 65, 38, 0, -1, 0, 48, 2, 0, 1, 0, 0, Chakra.None(), 0, Chakra.None())\n",
       " Melch.Event(1536, 0, 24, 36, 65, 38, 0, -1, 0, 48, 2, -1, 1, 0, 0, Chakra.None(), 0, Chakra.None())"
      ]
     },
     "execution_count": 4,
     "metadata": {},
     "output_type": "execute_result"
    }
   ],
   "source": [
    "es = pts(fnd(id(1,1),melch))"
   ]
  },
  {
   "cell_type": "code",
   "execution_count": 10,
   "id": "c10357d4",
   "metadata": {},
   "outputs": [
    {
     "data": {
      "text/plain": [
       "65"
      ]
     },
     "execution_count": 10,
     "metadata": {},
     "output_type": "execute_result"
    }
   ],
   "source": [
    "geta(:CPITCH,es[1])"
   ]
  },
  {
   "cell_type": "code",
   "execution_count": 8,
   "id": "b4bdd486",
   "metadata": {},
   "outputs": [
    {
     "data": {
      "text/html": [
       "<div class=\"data-frame\"><p>106 rows × 18 columns (omitted printing of 8 columns)</p><table class=\"data-frame\"><thead><tr><th></th><th>ONSET</th><th>DELTAST</th><th>BIOI</th><th>DUR</th><th>CPITCH</th><th>MPITCH</th><th>ACCIDENTAL</th><th>KEYSIG</th><th>MODE</th><th>BARLENGTH</th></tr><tr><th></th><th title=\"Int64\">Int64</th><th title=\"Int64\">Int64</th><th title=\"Int64\">Int64</th><th title=\"Int64\">Int64</th><th title=\"Int64\">Int64</th><th title=\"Int64\">Int64</th><th title=\"Int64\">Int64</th><th title=\"Int64\">Int64</th><th title=\"Int64\">Int64</th><th title=\"Int64\">Int64</th></tr></thead><tbody><tr><th>1</th><td>0</td><td>0</td><td>1</td><td>24</td><td>65</td><td>38</td><td>0</td><td>-1</td><td>0</td><td>48</td></tr><tr><th>2</th><td>24</td><td>0</td><td>24</td><td>24</td><td>62</td><td>36</td><td>0</td><td>-1</td><td>0</td><td>48</td></tr><tr><th>3</th><td>48</td><td>0</td><td>24</td><td>12</td><td>60</td><td>35</td><td>0</td><td>-1</td><td>0</td><td>48</td></tr><tr><th>4</th><td>60</td><td>0</td><td>12</td><td>12</td><td>60</td><td>35</td><td>0</td><td>-1</td><td>0</td><td>48</td></tr><tr><th>5</th><td>72</td><td>0</td><td>12</td><td>12</td><td>60</td><td>35</td><td>0</td><td>-1</td><td>0</td><td>48</td></tr><tr><th>6</th><td>84</td><td>0</td><td>12</td><td>12</td><td>60</td><td>35</td><td>0</td><td>-1</td><td>0</td><td>48</td></tr><tr><th>7</th><td>96</td><td>0</td><td>12</td><td>24</td><td>65</td><td>38</td><td>0</td><td>-1</td><td>0</td><td>48</td></tr><tr><th>8</th><td>120</td><td>0</td><td>24</td><td>12</td><td>65</td><td>38</td><td>0</td><td>-1</td><td>0</td><td>48</td></tr><tr><th>9</th><td>132</td><td>0</td><td>12</td><td>12</td><td>65</td><td>38</td><td>0</td><td>-1</td><td>0</td><td>48</td></tr><tr><th>10</th><td>144</td><td>0</td><td>12</td><td>12</td><td>69</td><td>40</td><td>0</td><td>-1</td><td>0</td><td>48</td></tr><tr><th>11</th><td>156</td><td>0</td><td>12</td><td>12</td><td>69</td><td>40</td><td>0</td><td>-1</td><td>0</td><td>48</td></tr><tr><th>12</th><td>168</td><td>0</td><td>12</td><td>12</td><td>69</td><td>40</td><td>0</td><td>-1</td><td>0</td><td>48</td></tr><tr><th>13</th><td>180</td><td>0</td><td>12</td><td>12</td><td>69</td><td>40</td><td>0</td><td>-1</td><td>0</td><td>48</td></tr><tr><th>14</th><td>192</td><td>0</td><td>12</td><td>24</td><td>69</td><td>40</td><td>0</td><td>-1</td><td>0</td><td>48</td></tr><tr><th>15</th><td>216</td><td>0</td><td>24</td><td>24</td><td>67</td><td>39</td><td>0</td><td>-1</td><td>0</td><td>48</td></tr><tr><th>16</th><td>240</td><td>0</td><td>24</td><td>12</td><td>65</td><td>38</td><td>0</td><td>-1</td><td>0</td><td>48</td></tr><tr><th>17</th><td>252</td><td>0</td><td>12</td><td>12</td><td>65</td><td>38</td><td>0</td><td>-1</td><td>0</td><td>48</td></tr><tr><th>18</th><td>264</td><td>0</td><td>12</td><td>24</td><td>65</td><td>38</td><td>0</td><td>-1</td><td>0</td><td>48</td></tr><tr><th>19</th><td>288</td><td>0</td><td>24</td><td>24</td><td>62</td><td>36</td><td>0</td><td>-1</td><td>0</td><td>48</td></tr><tr><th>20</th><td>312</td><td>0</td><td>24</td><td>12</td><td>60</td><td>35</td><td>0</td><td>-1</td><td>0</td><td>48</td></tr><tr><th>21</th><td>324</td><td>0</td><td>12</td><td>12</td><td>60</td><td>35</td><td>0</td><td>-1</td><td>0</td><td>48</td></tr><tr><th>22</th><td>336</td><td>0</td><td>12</td><td>24</td><td>65</td><td>38</td><td>0</td><td>-1</td><td>0</td><td>48</td></tr><tr><th>23</th><td>360</td><td>0</td><td>24</td><td>12</td><td>69</td><td>40</td><td>0</td><td>-1</td><td>0</td><td>48</td></tr><tr><th>24</th><td>372</td><td>0</td><td>12</td><td>12</td><td>69</td><td>40</td><td>0</td><td>-1</td><td>0</td><td>48</td></tr><tr><th>25</th><td>384</td><td>0</td><td>12</td><td>36</td><td>67</td><td>39</td><td>0</td><td>-1</td><td>0</td><td>48</td></tr><tr><th>26</th><td>420</td><td>0</td><td>36</td><td>12</td><td>65</td><td>38</td><td>0</td><td>-1</td><td>0</td><td>48</td></tr><tr><th>27</th><td>432</td><td>0</td><td>12</td><td>12</td><td>60</td><td>35</td><td>0</td><td>-1</td><td>0</td><td>48</td></tr><tr><th>28</th><td>444</td><td>0</td><td>12</td><td>12</td><td>60</td><td>35</td><td>0</td><td>-1</td><td>0</td><td>48</td></tr><tr><th>29</th><td>456</td><td>0</td><td>12</td><td>12</td><td>60</td><td>35</td><td>0</td><td>-1</td><td>0</td><td>48</td></tr><tr><th>30</th><td>468</td><td>0</td><td>12</td><td>12</td><td>60</td><td>35</td><td>0</td><td>-1</td><td>0</td><td>48</td></tr><tr><th>&vellip;</th><td>&vellip;</td><td>&vellip;</td><td>&vellip;</td><td>&vellip;</td><td>&vellip;</td><td>&vellip;</td><td>&vellip;</td><td>&vellip;</td><td>&vellip;</td><td>&vellip;</td></tr></tbody></table></div>"
      ],
      "text/latex": [
       "\\begin{tabular}{r|ccccccccccc}\n",
       "\t& ONSET & DELTAST & BIOI & DUR & CPITCH & MPITCH & ACCIDENTAL & KEYSIG & MODE & BARLENGTH & \\\\\n",
       "\t\\hline\n",
       "\t& Int64 & Int64 & Int64 & Int64 & Int64 & Int64 & Int64 & Int64 & Int64 & Int64 & \\\\\n",
       "\t\\hline\n",
       "\t1 & 0 & 0 & 1 & 24 & 65 & 38 & 0 & -1 & 0 & 48 & $\\dots$ \\\\\n",
       "\t2 & 24 & 0 & 24 & 24 & 62 & 36 & 0 & -1 & 0 & 48 & $\\dots$ \\\\\n",
       "\t3 & 48 & 0 & 24 & 12 & 60 & 35 & 0 & -1 & 0 & 48 & $\\dots$ \\\\\n",
       "\t4 & 60 & 0 & 12 & 12 & 60 & 35 & 0 & -1 & 0 & 48 & $\\dots$ \\\\\n",
       "\t5 & 72 & 0 & 12 & 12 & 60 & 35 & 0 & -1 & 0 & 48 & $\\dots$ \\\\\n",
       "\t6 & 84 & 0 & 12 & 12 & 60 & 35 & 0 & -1 & 0 & 48 & $\\dots$ \\\\\n",
       "\t7 & 96 & 0 & 12 & 24 & 65 & 38 & 0 & -1 & 0 & 48 & $\\dots$ \\\\\n",
       "\t8 & 120 & 0 & 24 & 12 & 65 & 38 & 0 & -1 & 0 & 48 & $\\dots$ \\\\\n",
       "\t9 & 132 & 0 & 12 & 12 & 65 & 38 & 0 & -1 & 0 & 48 & $\\dots$ \\\\\n",
       "\t10 & 144 & 0 & 12 & 12 & 69 & 40 & 0 & -1 & 0 & 48 & $\\dots$ \\\\\n",
       "\t11 & 156 & 0 & 12 & 12 & 69 & 40 & 0 & -1 & 0 & 48 & $\\dots$ \\\\\n",
       "\t12 & 168 & 0 & 12 & 12 & 69 & 40 & 0 & -1 & 0 & 48 & $\\dots$ \\\\\n",
       "\t13 & 180 & 0 & 12 & 12 & 69 & 40 & 0 & -1 & 0 & 48 & $\\dots$ \\\\\n",
       "\t14 & 192 & 0 & 12 & 24 & 69 & 40 & 0 & -1 & 0 & 48 & $\\dots$ \\\\\n",
       "\t15 & 216 & 0 & 24 & 24 & 67 & 39 & 0 & -1 & 0 & 48 & $\\dots$ \\\\\n",
       "\t16 & 240 & 0 & 24 & 12 & 65 & 38 & 0 & -1 & 0 & 48 & $\\dots$ \\\\\n",
       "\t17 & 252 & 0 & 12 & 12 & 65 & 38 & 0 & -1 & 0 & 48 & $\\dots$ \\\\\n",
       "\t18 & 264 & 0 & 12 & 24 & 65 & 38 & 0 & -1 & 0 & 48 & $\\dots$ \\\\\n",
       "\t19 & 288 & 0 & 24 & 24 & 62 & 36 & 0 & -1 & 0 & 48 & $\\dots$ \\\\\n",
       "\t20 & 312 & 0 & 24 & 12 & 60 & 35 & 0 & -1 & 0 & 48 & $\\dots$ \\\\\n",
       "\t21 & 324 & 0 & 12 & 12 & 60 & 35 & 0 & -1 & 0 & 48 & $\\dots$ \\\\\n",
       "\t22 & 336 & 0 & 12 & 24 & 65 & 38 & 0 & -1 & 0 & 48 & $\\dots$ \\\\\n",
       "\t23 & 360 & 0 & 24 & 12 & 69 & 40 & 0 & -1 & 0 & 48 & $\\dots$ \\\\\n",
       "\t24 & 372 & 0 & 12 & 12 & 69 & 40 & 0 & -1 & 0 & 48 & $\\dots$ \\\\\n",
       "\t25 & 384 & 0 & 12 & 36 & 67 & 39 & 0 & -1 & 0 & 48 & $\\dots$ \\\\\n",
       "\t26 & 420 & 0 & 36 & 12 & 65 & 38 & 0 & -1 & 0 & 48 & $\\dots$ \\\\\n",
       "\t27 & 432 & 0 & 12 & 12 & 60 & 35 & 0 & -1 & 0 & 48 & $\\dots$ \\\\\n",
       "\t28 & 444 & 0 & 12 & 12 & 60 & 35 & 0 & -1 & 0 & 48 & $\\dots$ \\\\\n",
       "\t29 & 456 & 0 & 12 & 12 & 60 & 35 & 0 & -1 & 0 & 48 & $\\dots$ \\\\\n",
       "\t30 & 468 & 0 & 12 & 12 & 60 & 35 & 0 & -1 & 0 & 48 & $\\dots$ \\\\\n",
       "\t$\\dots$ & $\\dots$ & $\\dots$ & $\\dots$ & $\\dots$ & $\\dots$ & $\\dots$ & $\\dots$ & $\\dots$ & $\\dots$ & $\\dots$ &  \\\\\n",
       "\\end{tabular}\n"
      ],
      "text/plain": [
       "\u001b[1m106×18 DataFrame\u001b[0m\n",
       "\u001b[1m Row \u001b[0m│\u001b[1m ONSET \u001b[0m\u001b[1m DELTAST \u001b[0m\u001b[1m BIOI  \u001b[0m\u001b[1m DUR   \u001b[0m\u001b[1m CPITCH \u001b[0m\u001b[1m MPITCH \u001b[0m\u001b[1m ACCIDENTAL \u001b[0m\u001b[1m KEYSIG \u001b[0m\u001b[1m MODE \u001b[0m ⋯\n",
       "\u001b[1m     \u001b[0m│\u001b[90m Int64 \u001b[0m\u001b[90m Int64   \u001b[0m\u001b[90m Int64 \u001b[0m\u001b[90m Int64 \u001b[0m\u001b[90m Int64  \u001b[0m\u001b[90m Int64  \u001b[0m\u001b[90m Int64      \u001b[0m\u001b[90m Int64  \u001b[0m\u001b[90m Int64\u001b[0m ⋯\n",
       "─────┼──────────────────────────────────────────────────────────────────────────\n",
       "   1 │     0        0      1     24      65      38           0      -1      0 ⋯\n",
       "   2 │    24        0     24     24      62      36           0      -1      0\n",
       "   3 │    48        0     24     12      60      35           0      -1      0\n",
       "   4 │    60        0     12     12      60      35           0      -1      0\n",
       "   5 │    72        0     12     12      60      35           0      -1      0 ⋯\n",
       "   6 │    84        0     12     12      60      35           0      -1      0\n",
       "   7 │    96        0     12     24      65      38           0      -1      0\n",
       "   8 │   120        0     24     12      65      38           0      -1      0\n",
       "   9 │   132        0     12     12      65      38           0      -1      0 ⋯\n",
       "  10 │   144        0     12     12      69      40           0      -1      0\n",
       "  11 │   156        0     12     12      69      40           0      -1      0\n",
       "  ⋮  │   ⋮       ⋮       ⋮      ⋮      ⋮       ⋮         ⋮         ⋮       ⋮   ⋱\n",
       "  97 │  1404        0     12     12      69      40           0      -1      0\n",
       "  98 │  1416        0     12     12      69      40           0      -1      0 ⋯\n",
       "  99 │  1428        0     12     12      69      40           0      -1      0\n",
       " 100 │  1440        0     12     12      69      40           0      -1      0\n",
       " 101 │  1452        0     12     12      67      39           0      -1      0\n",
       " 102 │  1464        0     12     12      65      38           0      -1      0 ⋯\n",
       " 103 │  1476        0     12     12      67      39           0      -1      0\n",
       " 104 │  1488        0     12     24      69      40           0      -1      0\n",
       " 105 │  1512        0     24     24      65      38           0      -1      0\n",
       " 106 │  1536        0     24     36      65      38           0      -1      0 ⋯\n",
       "\u001b[36m                                                   9 columns and 85 rows omitted\u001b[0m"
      ]
     },
     "execution_count": 8,
     "metadata": {},
     "output_type": "execute_result"
    }
   ],
   "source": [
    "Melch.melody_to_df(fnd(id(1,1),melch))"
   ]
  },
  {
   "cell_type": "code",
   "execution_count": null,
   "id": "e8dc5df8",
   "metadata": {},
   "outputs": [],
   "source": []
  }
 ],
 "metadata": {
  "kernelspec": {
   "display_name": "Julia 1.7.3",
   "language": "julia",
   "name": "julia-1.7"
  },
  "language_info": {
   "file_extension": ".jl",
   "mimetype": "application/julia",
   "name": "julia",
   "version": "1.7.3"
  }
 },
 "nbformat": 4,
 "nbformat_minor": 5
}
