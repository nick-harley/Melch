{
 "cells": [
  {
   "cell_type": "code",
   "execution_count": 1,
   "id": "4bbee189",
   "metadata": {},
   "outputs": [
    {
     "name": "stderr",
     "output_type": "stream",
     "text": [
      "┌ Info: Precompiling Melch [top-level]\n",
      "└ @ Base loading.jl:1423\n"
     ]
    }
   ],
   "source": [
    "push!(LOAD_PATH,\"src\")\n",
    "using Melch"
   ]
  },
  {
   "cell_type": "markdown",
   "id": "e0794110",
   "metadata": {},
   "source": [
    "- ``parse_data`` generates a Julia object from the set of lisp files. \n",
    "- The argument of ``parse_data`` is the directory containing Melch."
   ]
  },
  {
   "cell_type": "code",
   "execution_count": 2,
   "id": "8d560a05",
   "metadata": {},
   "outputs": [],
   "source": [
    "corpus = Melch.parse_data(\".\");"
   ]
  },
  {
   "cell_type": "markdown",
   "id": "eedba7cb",
   "metadata": {},
   "source": [
    "- ``save_corpus`` writes the Julia corpus to a binary data file\n",
    "- The binary file is located in the data directory"
   ]
  },
  {
   "cell_type": "code",
   "execution_count": 10,
   "id": "22b2b514",
   "metadata": {},
   "outputs": [],
   "source": [
    "# save_corpus writes the Julia corpus to a binary data file \n",
    "[Melch.save_dataset(corpus.datasets[i+1],\"data/$i.jld5\") for i in 0:25];"
   ]
  },
  {
   "cell_type": "code",
   "execution_count": null,
   "id": "533224bf",
   "metadata": {},
   "outputs": [],
   "source": []
  }
 ],
 "metadata": {
  "kernelspec": {
   "display_name": "Julia 1.7.3",
   "language": "julia",
   "name": "julia-1.7"
  },
  "language_info": {
   "file_extension": ".jl",
   "mimetype": "application/julia",
   "name": "julia",
   "version": "1.7.3"
  }
 },
 "nbformat": 4,
 "nbformat_minor": 5
}
